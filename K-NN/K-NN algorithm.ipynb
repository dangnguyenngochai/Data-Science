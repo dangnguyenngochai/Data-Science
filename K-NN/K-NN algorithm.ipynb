{
 "cells": [
  {
   "cell_type": "code",
   "execution_count": 1,
   "metadata": {},
   "outputs": [],
   "source": [
    "import pandas as pd\n",
    "import matplotlib.pyplot as plt\n",
    "import numpy as np\n",
    "from sklearn.model_selection import train_test_split\n",
    "import os\n",
    "import time\n",
    "import math\n",
    "from scipy.stats import mode\n",
    "from sklearn.metrics import confusion_matrix"
   ]
  },
  {
   "cell_type": "code",
   "execution_count": 2,
   "metadata": {},
   "outputs": [],
   "source": [
    "iris = pd.read_csv(\"C:\\\\Users\\\\Thanis\\\\Desktop\\\\Data Science\\\\Machine Learing\\\\iris.csv\")  "
   ]
  },
  {
   "cell_type": "code",
   "execution_count": 3,
   "metadata": {},
   "outputs": [],
   "source": [
    "X = iris[['Sepal.Length','Sepal.Width','Petal.Length','Petal.Width']]\n",
    "y = iris['Species']"
   ]
  },
  {
   "cell_type": "code",
   "execution_count": 4,
   "metadata": {},
   "outputs": [],
   "source": [
    "X_train, X_test, y_train, y_test = train_test_split(X, y, test_size = 0.3, stratify=y, random_state = 50)"
   ]
  },
  {
   "cell_type": "markdown",
   "metadata": {},
   "source": [
    "# 1-NN algorithm\n",
    "# method 1 - using for loop(to calculate all distances)\n",
    "\n",
    "While finding the eucledian distance for the 1-nearest neighbour,the distancs of the particular test data point and all the training data points are calculated and stored in a list.Then minimum of those is chosen as the nearest nighbour."
   ]
  },
  {
   "cell_type": "code",
   "execution_count": 5,
   "metadata": {},
   "outputs": [
    {
     "name": "stdout",
     "output_type": "stream",
     "text": [
      "time elapsed =  20.046192407608032\n",
      "['setosa', 'virginica', 'setosa', 'virginica', 'setosa', 'setosa', 'virginica', 'versicolor', 'virginica', 'versicolor', 'virginica', 'setosa', 'virginica', 'virginica', 'virginica', 'versicolor', 'versicolor', 'setosa', 'virginica', 'setosa', 'virginica', 'versicolor', 'versicolor', 'versicolor', 'virginica', 'versicolor', 'virginica', 'setosa', 'setosa', 'versicolor', 'virginica', 'versicolor', 'versicolor', 'versicolor', 'setosa', 'setosa', 'versicolor', 'setosa', 'versicolor', 'virginica', 'setosa', 'setosa', 'setosa', 'versicolor', 'virginica']\n"
     ]
    }
   ],
   "source": [
    "# 1 - NN in a single cell\n",
    "dists = []\n",
    "nei = []\n",
    "y_pred = []\n",
    "t1 = time.time()\n",
    "for i in range(len(X_test)):\n",
    "    for j in range(len(X_train)):\n",
    "        distances = np.sqrt(np.sum((X_test.iloc[i,] - X_train.iloc[j,])**2))\n",
    "        dists.append((distances,j))\n",
    "    dists.sort()\n",
    "    #print(dists[0])\n",
    "    nei.append((dists[0]))\n",
    "    dists.clear()\n",
    "\n",
    "for i in range(len(nei)):\n",
    "    neighbour = nei[i][1]\n",
    "    y_pred.append(np.array(y_train)[neighbour])\n",
    "t2 = time.time()\n",
    "print('time elapsed = ', t2-t1)\n",
    "print(y_pred)"
   ]
  },
  {
   "cell_type": "markdown",
   "metadata": {},
   "source": [
    "# method 2 - using for loop(to find the index of the lowest distance)\n",
    "While finding the eucledian distance of the nearest neighbour,the distance of the particular test data point and the training data points are calculated, the corresponding lowest index is updated in a list.Then record corresponding to the paticular index in the training dataset is the nearest neighbour."
   ]
  },
  {
   "cell_type": "code",
   "execution_count": 6,
   "metadata": {},
   "outputs": [
    {
     "name": "stdout",
     "output_type": "stream",
     "text": [
      "time elapsed: 14.409120082855225\n",
      "['setosa', 'virginica', 'setosa', 'virginica', 'setosa', 'setosa', 'virginica', 'versicolor', 'virginica', 'versicolor', 'virginica', 'setosa', 'virginica', 'virginica', 'virginica', 'versicolor', 'versicolor', 'setosa', 'virginica', 'setosa', 'virginica', 'versicolor', 'versicolor', 'versicolor', 'virginica', 'versicolor', 'virginica', 'setosa', 'setosa', 'versicolor', 'virginica', 'versicolor', 'versicolor', 'versicolor', 'setosa', 'setosa', 'versicolor', 'setosa', 'versicolor', 'virginica', 'setosa', 'setosa', 'setosa', 'versicolor', 'virginica']\n"
     ]
    }
   ],
   "source": [
    "def dist(X_train,test):\n",
    "    distance = np.sqrt(np.sum((test - X_train)**2))\n",
    "    #distance = np.sqrt(np.sum((np.matrix(test) - np.matrix(X_train))**2))\n",
    "    return(distance)\n",
    "\n",
    "def Onn(X_train, y_train, test):\n",
    "    min_dist = math.inf\n",
    "    for i in range(len(X_train)):\n",
    "        distance = dist(test,X_train.iloc[i,])\n",
    "    \n",
    "        if distance < min_dist:\n",
    "            min_dist = distance\n",
    "            index = i\n",
    "    Y = y_train.iloc[index,]\n",
    "    return(Y)\n",
    "\n",
    "def knn(X_train, y_train, X_test):\n",
    "    lst = []\n",
    "    for i in range(len(X_test)):\n",
    "        nn = Onn(X_train, y_train, X_test.iloc[i,])\n",
    "        lst.append((nn))\n",
    "    return(lst)\n",
    "\n",
    "t1 = time.time()\n",
    "y_pred1 = knn(X_train, y_train, X_test)\n",
    "t2 = time.time()\n",
    "print('time elapsed:',t2-t1)\n",
    "print(y_pred1)"
   ]
  },
  {
   "cell_type": "markdown",
   "metadata": {},
   "source": [
    "# method 3 - using vectorized notation\n",
    "This method uses vectorized form to calculate the eucledian distance of the test data points and the coressponding training data points(distance between each test data points and all the training data points are calculated) which is way faster than the above two methods.Finally, the minimum distance for the corressponding test data point is chosen as the nearest nighbour."
   ]
  },
  {
   "cell_type": "code",
   "execution_count": 7,
   "metadata": {},
   "outputs": [
    {
     "name": "stdout",
     "output_type": "stream",
     "text": [
      "time elapsed: 0.33783674240112305\n",
      "['setosa', 'virginica', 'setosa', 'virginica', 'setosa', 'setosa', 'virginica', 'versicolor', 'virginica', 'versicolor', 'virginica', 'setosa', 'virginica', 'virginica', 'virginica', 'versicolor', 'versicolor', 'setosa', 'virginica', 'setosa', 'virginica', 'versicolor', 'versicolor', 'versicolor', 'virginica', 'versicolor', 'virginica', 'setosa', 'setosa', 'versicolor', 'virginica', 'versicolor', 'versicolor', 'versicolor', 'setosa', 'setosa', 'versicolor', 'setosa', 'versicolor', 'virginica', 'setosa', 'setosa', 'setosa', 'versicolor', 'virginica']\n"
     ]
    }
   ],
   "source": [
    "t1 = time.time()\n",
    "m = X_train.shape[0] # x has shape (m, d)\n",
    "n = X_test.shape[0] # y has shape (n, d)\n",
    "x2 = np.matrix(np.sum(X_train**2, axis=1)).reshape((m, 1))\n",
    "y2 = np.matrix(np.sum(X_test**2, axis=1)).reshape((1, n))\n",
    "xy = X_train.dot(X_test.T) # shape is (m, n)\n",
    "dists = np.sqrt(x2 + y2 - 2*xy) # shape is (m, n)\n",
    "\n",
    "minlist = []\n",
    "y_pred2 = []\n",
    "for i in range(len(X_test)):\n",
    "    minlist.append(dists.iloc[:,i].idxmin())\n",
    "    y_pred2.append(y_train[minlist[i]])\n",
    "t2 = time.time()\n",
    "print('time elapsed:',t2-t1)\n",
    "print(y_pred2)"
   ]
  },
  {
   "cell_type": "markdown",
   "metadata": {},
   "source": [
    "We could see the time elapsed for the method 3 using vectorized notation is way faster than the othe two methods"
   ]
  },
  {
   "cell_type": "code",
   "execution_count": 8,
   "metadata": {},
   "outputs": [
    {
     "name": "stdout",
     "output_type": "stream",
     "text": [
      "same\n"
     ]
    }
   ],
   "source": [
    "# to check whether all the outputs produces from different methods are same\n",
    "if y_pred == y_pred1 and y_pred == y_pred2:\n",
    "    print('same')"
   ]
  },
  {
   "cell_type": "code",
   "execution_count": 10,
   "metadata": {},
   "outputs": [
    {
     "data": {
      "text/plain": [
       "array([[15,  0,  0],\n",
       "       [ 0, 15,  0],\n",
       "       [ 0,  0, 15]], dtype=int64)"
      ]
     },
     "execution_count": 10,
     "metadata": {},
     "output_type": "execute_result"
    }
   ],
   "source": [
    "c=confusion_matrix(y_test, y_pred2)\n",
    "c"
   ]
  },
  {
   "cell_type": "code",
   "execution_count": 11,
   "metadata": {},
   "outputs": [
    {
     "data": {
      "text/plain": [
       "100.0"
      ]
     },
     "execution_count": 11,
     "metadata": {},
     "output_type": "execute_result"
    }
   ],
   "source": [
    "(c[0,0]+c[1,1]+c[2,2])/np.sum(c)*100"
   ]
  },
  {
   "cell_type": "markdown",
   "metadata": {},
   "source": [
    "lower value of k leads to overfitting of data"
   ]
  },
  {
   "cell_type": "markdown",
   "metadata": {},
   "source": [
    "# K Nearest Neighbour algorithm\n",
    "k represents the number of nearest neighbours"
   ]
  },
  {
   "cell_type": "code",
   "execution_count": 12,
   "metadata": {},
   "outputs": [],
   "source": [
    "def knn(X_train,y_train,X_test,k=1):\n",
    "    \n",
    "    m = X_train.shape[0] # x has shape (m, d)\n",
    "    n = X_test.shape[0] # y has shape (n, d)\n",
    "    x2 = np.matrix(np.sum(X_train**2, axis=1)).reshape((m, 1))\n",
    "    y2 = np.matrix(np.sum(X_test**2, axis=1)).reshape((1, n))\n",
    "    xy = X_train.dot(X_test.T) # shape is (m, n)\n",
    "    dists = np.sqrt(x2 + y2 - 2*xy) # shape is (m, n)\n",
    "    minlist = []\n",
    "    p = []\n",
    "    for i in range(len(X_test)):\n",
    "        v = dists.iloc[:,i].nsmallest(k).index\n",
    "        p.append(mode(y_train[v])[0][0])\n",
    "    \n",
    "    return(p)"
   ]
  },
  {
   "cell_type": "code",
   "execution_count": 26,
   "metadata": {},
   "outputs": [
    {
     "name": "stdout",
     "output_type": "stream",
     "text": [
      "time elapsed 0.47472715377807617\n",
      "['setosa', 'virginica', 'setosa', 'virginica', 'setosa', 'setosa', 'virginica', 'versicolor', 'virginica', 'versicolor', 'virginica', 'setosa', 'virginica', 'virginica', 'virginica', 'versicolor', 'versicolor', 'setosa', 'virginica', 'setosa', 'virginica', 'versicolor', 'versicolor', 'versicolor', 'virginica', 'virginica', 'virginica', 'setosa', 'setosa', 'versicolor', 'virginica', 'versicolor', 'versicolor', 'versicolor', 'setosa', 'setosa', 'versicolor', 'setosa', 'versicolor', 'virginica', 'setosa', 'setosa', 'setosa', 'versicolor', 'virginica']\n"
     ]
    }
   ],
   "source": [
    "t1 = time.time()\n",
    "Y_PRED = knn(X_train,y_train,X_test,k=5)\n",
    "t2 = time.time()\n",
    "print('time elapsed',t2-t1)\n",
    "print(Y_PRED)"
   ]
  },
  {
   "cell_type": "code",
   "execution_count": 27,
   "metadata": {},
   "outputs": [
    {
     "data": {
      "text/plain": [
       "array([[15,  0,  0],\n",
       "       [ 0, 14,  1],\n",
       "       [ 0,  0, 15]], dtype=int64)"
      ]
     },
     "execution_count": 27,
     "metadata": {},
     "output_type": "execute_result"
    }
   ],
   "source": [
    "c=confusion_matrix(y_test, Y_PRED)\n",
    "c"
   ]
  },
  {
   "cell_type": "code",
   "execution_count": 28,
   "metadata": {},
   "outputs": [
    {
     "data": {
      "text/plain": [
       "97.77777777777777"
      ]
     },
     "execution_count": 28,
     "metadata": {},
     "output_type": "execute_result"
    }
   ],
   "source": [
    "(c[0,0]+c[1,1]+c[2,2])/np.sum(c)*100"
   ]
  },
  {
   "cell_type": "code",
   "execution_count": null,
   "metadata": {},
   "outputs": [],
   "source": []
  },
  {
   "cell_type": "markdown",
   "metadata": {},
   "source": [
    "# KNN using inbuilt library"
   ]
  },
  {
   "cell_type": "code",
   "execution_count": 30,
   "metadata": {},
   "outputs": [],
   "source": [
    "from sklearn.neighbors import KNeighborsClassifier\n",
    "f = []\n",
    "k = 100\n",
    "for i in range(1,k):\n",
    "    knnreg = KNeighborsClassifier(n_neighbors=i)\n",
    "    knnreg.fit(X_train, y_train)\n",
    "    pred = knnreg.predict(X_test)\n",
    "    c=confusion_matrix(y_test, pred)\n",
    "    accuracy = (c[0,0]+c[1,1]+c[2,2])/np.sum(c)*100\n",
    "    f.append((i, accuracy))"
   ]
  },
  {
   "cell_type": "code",
   "execution_count": 34,
   "metadata": {},
   "outputs": [],
   "source": [
    "df = pd.DataFrame(f,columns=['Neighbour','Accuracy'])"
   ]
  },
  {
   "cell_type": "code",
   "execution_count": 40,
   "metadata": {},
   "outputs": [
    {
     "data": {
      "image/png": "[encoded data removed]",
      "text/plain": [
       "<Figure size 432x288 with 1 Axes>"
      ]
     },
     "metadata": {
      "needs_background": "light"
     },
     "output_type": "display_data"
    }
   ],
   "source": [
    "import matplotlib.pyplot as plt\n",
    " \n",
    "x = df.Neighbour\n",
    "y = df.Accuracy \n",
    "plt.plot(x, y) \n",
    "plt.xlabel('Neighbours') \n",
    "plt.ylabel('Accuracy') \n",
    "plt.title('Accuracy plot')  \n",
    "plt.show() "
   ]
  },
  {
   "cell_type": "markdown",
   "metadata": {},
   "source": [
    "-->Lower value of k leads to overfitting --> algorithm behaves as over fitting and it gives a non - smooth decision surface\n",
    "\n",
    "-->Higher value of k leads to underfitting --> which smoothens the curve resulting in under fitting\n",
    "\n",
    "-->From the graph you could see as the neighbours increase the accuracy decreases"
   ]
  },
  {
   "cell_type": "code",
   "execution_count": null,
   "metadata": {},
   "outputs": [],
   "source": []
  }
 ],
 "metadata": {
  "kernelspec": {
   "display_name": "Python 3",
   "language": "python",
   "name": "python3"
  },
  "language_info": {
   "codemirror_mode": {
    "name": "ipython",
    "version": 3
   },
   "file_extension": ".py",
   "mimetype": "text/x-python",
   "name": "python",
   "nbconvert_exporter": "python",
   "pygments_lexer": "ipython3",
   "version": "3.7.6"
  }
 },
 "nbformat": 4,
 "nbformat_minor": 4
}
