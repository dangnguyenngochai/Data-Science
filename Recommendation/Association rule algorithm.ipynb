{
 "cells": [
  {
   "cell_type": "markdown",
   "metadata": {},
   "source": [
    "#### Name    - Roll no.\n",
    "#### Ajith      - E20003\n",
    "#### James   - E20013\n",
    "#### Swastik - E20036"
   ]
  },
  {
   "cell_type": "markdown",
   "metadata": {},
   "source": [
    "### We have developed 3 recommendation model<br>\n",
    "\n",
    "<ol>\n",
    "<li> A simple recommendation model based on movie scores. Novie scores are obtained by a weighted rating formula. We can get a list of top x movies using this model. <br><br>\n",
    "<li> A sub genre and timeframe based model. It is built by clustering movies based on genres and filtering based on preferred time period. <br>Models 1 and 2 are implemented together<br><br>\n",
    "<li> A recommendation model based on user's recently liked movies. It is built by using movie - movie cosine similarity matrix + user's recent viewed(& liked) history <br><br>\n",
    "    \n",
    "* We have used the smaller version of the data due to space constraints"
   ]
  },
  {
   "cell_type": "markdown",
   "metadata": {},
   "source": [
    "# IMPORTING PACKAGES"
   ]
  },
  {
   "cell_type": "code",
   "execution_count": 1,
   "metadata": {},
   "outputs": [],
   "source": [
    "import pandas as pd\n",
    "import numpy as np"
   ]
  },
  {
   "cell_type": "markdown",
   "metadata": {},
   "source": [
    "## READING DATA"
   ]
  },
  {
   "cell_type": "code",
   "execution_count": 2,
   "metadata": {},
   "outputs": [],
   "source": [
    "movies = pd.read_csv(\"D:\\\\Praxis\\\\ML\\\\data\\\\ml-latest-small\\\\movies.csv\")"
   ]
  },
  {
   "cell_type": "code",
   "execution_count": 3,
   "metadata": {},
   "outputs": [
    {
     "data": {
      "text/html": [
       "<div>\n",
       "<style scoped>\n",
       "    .dataframe tbody tr th:only-of-type {\n",
       "        vertical-align: middle;\n",
       "    }\n",
       "\n",
       "    .dataframe tbody tr th {\n",
       "        vertical-align: top;\n",
       "    }\n",
       "\n",
       "    .dataframe thead th {\n",
       "        text-align: right;\n",
       "    }\n",
       "</style>\n",
       "<table border=\"1\" class=\"dataframe\">\n",
       "  <thead>\n",
       "    <tr style=\"text-align: right;\">\n",
       "      <th></th>\n",
       "      <th>movieId</th>\n",
       "      <th>title</th>\n",
       "      <th>genres</th>\n",
       "    </tr>\n",
       "  </thead>\n",
       "  <tbody>\n",
       "    <tr>\n",
       "      <th>4710</th>\n",
       "      <td>7027</td>\n",
       "      <td>Silverado (1985)</td>\n",
       "      <td>Action|Western</td>\n",
       "    </tr>\n",
       "    <tr>\n",
       "      <th>1210</th>\n",
       "      <td>1609</td>\n",
       "      <td>187 (One Eight Seven) (1997)</td>\n",
       "      <td>Drama|Thriller</td>\n",
       "    </tr>\n",
       "  </tbody>\n",
       "</table>\n",
       "</div>"
      ],
      "text/plain": [
       "      movieId                         title          genres\n",
       "4710     7027              Silverado (1985)  Action|Western\n",
       "1210     1609  187 (One Eight Seven) (1997)  Drama|Thriller"
      ]
     },
     "execution_count": 3,
     "metadata": {},
     "output_type": "execute_result"
    }
   ],
   "source": [
    "movies.sample(2)"
   ]
  },
  {
   "cell_type": "code",
   "execution_count": 4,
   "metadata": {},
   "outputs": [],
   "source": [
    "### Splitting genre column into separate boolean genre columns"
   ]
  },
  {
   "cell_type": "code",
   "execution_count": 5,
   "metadata": {},
   "outputs": [
    {
     "data": {
      "text/html": [
       "<div>\n",
       "<style scoped>\n",
       "    .dataframe tbody tr th:only-of-type {\n",
       "        vertical-align: middle;\n",
       "    }\n",
       "\n",
       "    .dataframe tbody tr th {\n",
       "        vertical-align: top;\n",
       "    }\n",
       "\n",
       "    .dataframe thead th {\n",
       "        text-align: right;\n",
       "    }\n",
       "</style>\n",
       "<table border=\"1\" class=\"dataframe\">\n",
       "  <thead>\n",
       "    <tr style=\"text-align: right;\">\n",
       "      <th></th>\n",
       "      <th>movieId</th>\n",
       "      <th>title</th>\n",
       "      <th>genres</th>\n",
       "      <th>Adventure</th>\n",
       "      <th>Animation</th>\n",
       "      <th>Children</th>\n",
       "      <th>Comedy</th>\n",
       "      <th>Fantasy</th>\n",
       "      <th>Romance</th>\n",
       "      <th>Drama</th>\n",
       "      <th>...</th>\n",
       "      <th>Horror</th>\n",
       "      <th>Mystery</th>\n",
       "      <th>Sci-Fi</th>\n",
       "      <th>War</th>\n",
       "      <th>Musical</th>\n",
       "      <th>Documentary</th>\n",
       "      <th>IMAX</th>\n",
       "      <th>Western</th>\n",
       "      <th>Film-Noir</th>\n",
       "      <th>(no genres listed)</th>\n",
       "    </tr>\n",
       "  </thead>\n",
       "  <tbody>\n",
       "    <tr>\n",
       "      <th>4013</th>\n",
       "      <td>5670</td>\n",
       "      <td>Comedian (2002)</td>\n",
       "      <td>Comedy|Documentary</td>\n",
       "      <td>0</td>\n",
       "      <td>0</td>\n",
       "      <td>0</td>\n",
       "      <td>0</td>\n",
       "      <td>0</td>\n",
       "      <td>0</td>\n",
       "      <td>0</td>\n",
       "      <td>...</td>\n",
       "      <td>0</td>\n",
       "      <td>0</td>\n",
       "      <td>0</td>\n",
       "      <td>0</td>\n",
       "      <td>0</td>\n",
       "      <td>0</td>\n",
       "      <td>0</td>\n",
       "      <td>0</td>\n",
       "      <td>0</td>\n",
       "      <td>0</td>\n",
       "    </tr>\n",
       "    <tr>\n",
       "      <th>2794</th>\n",
       "      <td>3736</td>\n",
       "      <td>Ace in the Hole (Big Carnival, The) (1951)</td>\n",
       "      <td>Drama</td>\n",
       "      <td>0</td>\n",
       "      <td>0</td>\n",
       "      <td>0</td>\n",
       "      <td>0</td>\n",
       "      <td>0</td>\n",
       "      <td>0</td>\n",
       "      <td>0</td>\n",
       "      <td>...</td>\n",
       "      <td>0</td>\n",
       "      <td>0</td>\n",
       "      <td>0</td>\n",
       "      <td>0</td>\n",
       "      <td>0</td>\n",
       "      <td>0</td>\n",
       "      <td>0</td>\n",
       "      <td>0</td>\n",
       "      <td>0</td>\n",
       "      <td>0</td>\n",
       "    </tr>\n",
       "  </tbody>\n",
       "</table>\n",
       "<p>2 rows × 23 columns</p>\n",
       "</div>"
      ],
      "text/plain": [
       "      movieId                                       title              genres  \\\n",
       "4013     5670                             Comedian (2002)  Comedy|Documentary   \n",
       "2794     3736  Ace in the Hole (Big Carnival, The) (1951)               Drama   \n",
       "\n",
       "      Adventure  Animation  Children  Comedy  Fantasy  Romance  Drama  ...  \\\n",
       "4013          0          0         0       0        0        0      0  ...   \n",
       "2794          0          0         0       0        0        0      0  ...   \n",
       "\n",
       "      Horror  Mystery  Sci-Fi  War  Musical  Documentary  IMAX  Western  \\\n",
       "4013       0        0       0    0        0            0     0        0   \n",
       "2794       0        0       0    0        0            0     0        0   \n",
       "\n",
       "      Film-Noir  (no genres listed)  \n",
       "4013          0                   0  \n",
       "2794          0                   0  \n",
       "\n",
       "[2 rows x 23 columns]"
      ]
     },
     "execution_count": 5,
     "metadata": {},
     "output_type": "execute_result"
    }
   ],
   "source": [
    "genres_list = []\n",
    "for genre in movies['genres']:\n",
    "    genre_splitted = genre.split('|')\n",
    "    for item in genre_splitted:\n",
    "        if item not in genres_list:\n",
    "            genres_list.append(item)\n",
    "\n",
    "#movies['genres'].split('|')\n",
    "for genre in genres_list:\n",
    "    movies[genre] = 0\n",
    "movies.sample(2)"
   ]
  },
  {
   "cell_type": "code",
   "execution_count": 6,
   "metadata": {},
   "outputs": [],
   "source": [
    "# filling 1 for genre being present\n",
    "\n",
    "for index, row in movies.iterrows():\n",
    "    for current_genre in genres_list:\n",
    "        if current_genre in row['genres']:\n",
    "            movies.loc[index,current_genre] = 1"
   ]
  },
  {
   "cell_type": "code",
   "execution_count": 7,
   "metadata": {},
   "outputs": [
    {
     "data": {
      "text/html": [
       "<div>\n",
       "<style scoped>\n",
       "    .dataframe tbody tr th:only-of-type {\n",
       "        vertical-align: middle;\n",
       "    }\n",
       "\n",
       "    .dataframe tbody tr th {\n",
       "        vertical-align: top;\n",
       "    }\n",
       "\n",
       "    .dataframe thead th {\n",
       "        text-align: right;\n",
       "    }\n",
       "</style>\n",
       "<table border=\"1\" class=\"dataframe\">\n",
       "  <thead>\n",
       "    <tr style=\"text-align: right;\">\n",
       "      <th></th>\n",
       "      <th>movieId</th>\n",
       "      <th>title</th>\n",
       "      <th>genres</th>\n",
       "      <th>Adventure</th>\n",
       "      <th>Animation</th>\n",
       "      <th>Children</th>\n",
       "      <th>Comedy</th>\n",
       "      <th>Fantasy</th>\n",
       "      <th>Romance</th>\n",
       "      <th>Drama</th>\n",
       "      <th>...</th>\n",
       "      <th>Horror</th>\n",
       "      <th>Mystery</th>\n",
       "      <th>Sci-Fi</th>\n",
       "      <th>War</th>\n",
       "      <th>Musical</th>\n",
       "      <th>Documentary</th>\n",
       "      <th>IMAX</th>\n",
       "      <th>Western</th>\n",
       "      <th>Film-Noir</th>\n",
       "      <th>(no genres listed)</th>\n",
       "    </tr>\n",
       "  </thead>\n",
       "  <tbody>\n",
       "    <tr>\n",
       "      <th>5294</th>\n",
       "      <td>8771</td>\n",
       "      <td>Sherlock Holmes: Terror by Night (1946)</td>\n",
       "      <td>Crime|Mystery|Thriller</td>\n",
       "      <td>0</td>\n",
       "      <td>0</td>\n",
       "      <td>0</td>\n",
       "      <td>0</td>\n",
       "      <td>0</td>\n",
       "      <td>0</td>\n",
       "      <td>0</td>\n",
       "      <td>...</td>\n",
       "      <td>0</td>\n",
       "      <td>1</td>\n",
       "      <td>0</td>\n",
       "      <td>0</td>\n",
       "      <td>0</td>\n",
       "      <td>0</td>\n",
       "      <td>0</td>\n",
       "      <td>0</td>\n",
       "      <td>0</td>\n",
       "      <td>0</td>\n",
       "    </tr>\n",
       "    <tr>\n",
       "      <th>5060</th>\n",
       "      <td>7932</td>\n",
       "      <td>Dark Days (2000)</td>\n",
       "      <td>Documentary</td>\n",
       "      <td>0</td>\n",
       "      <td>0</td>\n",
       "      <td>0</td>\n",
       "      <td>0</td>\n",
       "      <td>0</td>\n",
       "      <td>0</td>\n",
       "      <td>0</td>\n",
       "      <td>...</td>\n",
       "      <td>0</td>\n",
       "      <td>0</td>\n",
       "      <td>0</td>\n",
       "      <td>0</td>\n",
       "      <td>0</td>\n",
       "      <td>1</td>\n",
       "      <td>0</td>\n",
       "      <td>0</td>\n",
       "      <td>0</td>\n",
       "      <td>0</td>\n",
       "    </tr>\n",
       "  </tbody>\n",
       "</table>\n",
       "<p>2 rows × 23 columns</p>\n",
       "</div>"
      ],
      "text/plain": [
       "      movieId                                    title  \\\n",
       "5294     8771  Sherlock Holmes: Terror by Night (1946)   \n",
       "5060     7932                         Dark Days (2000)   \n",
       "\n",
       "                      genres  Adventure  Animation  Children  Comedy  Fantasy  \\\n",
       "5294  Crime|Mystery|Thriller          0          0         0       0        0   \n",
       "5060             Documentary          0          0         0       0        0   \n",
       "\n",
       "      Romance  Drama  ...  Horror  Mystery  Sci-Fi  War  Musical  Documentary  \\\n",
       "5294        0      0  ...       0        1       0    0        0            0   \n",
       "5060        0      0  ...       0        0       0    0        0            1   \n",
       "\n",
       "      IMAX  Western  Film-Noir  (no genres listed)  \n",
       "5294     0        0          0                   0  \n",
       "5060     0        0          0                   0  \n",
       "\n",
       "[2 rows x 23 columns]"
      ]
     },
     "execution_count": 7,
     "metadata": {},
     "output_type": "execute_result"
    }
   ],
   "source": [
    "movies.sample(2)"
   ]
  },
  {
   "cell_type": "markdown",
   "metadata": {},
   "source": [
    "## Model 1 - CLUSTERING BASED ON GENRES\n",
    "\n",
    "* We have used Agglomerative clustering with Cosine similarity as the metric. \n",
    "* We are setting number of clusters to be created as 8. Tried with different cluster numbers. Found 8 to be the appropriate choice.\n",
    "* We look at the genres in each cluster with the most occurences. Based on the frequency, we give it a generalised category name - Eg: Romcom\n",
    "* After this, we want to provide the choice of category. We also want to provide the choice of timeframe, for eg: 90s\n",
    "* To do this, we extract the year_released from the movie title column and filter based on his choice.\n",
    "* He can also choose that he has no preference."
   ]
  },
  {
   "cell_type": "code",
   "execution_count": 9,
   "metadata": {},
   "outputs": [
    {
     "data": {
      "text/html": [
       "<div>\n",
       "<style scoped>\n",
       "    .dataframe tbody tr th:only-of-type {\n",
       "        vertical-align: middle;\n",
       "    }\n",
       "\n",
       "    .dataframe tbody tr th {\n",
       "        vertical-align: top;\n",
       "    }\n",
       "\n",
       "    .dataframe thead th {\n",
       "        text-align: right;\n",
       "    }\n",
       "</style>\n",
       "<table border=\"1\" class=\"dataframe\">\n",
       "  <thead>\n",
       "    <tr style=\"text-align: right;\">\n",
       "      <th></th>\n",
       "      <th>Adventure</th>\n",
       "      <th>Animation</th>\n",
       "      <th>Children</th>\n",
       "      <th>Comedy</th>\n",
       "      <th>Fantasy</th>\n",
       "      <th>Romance</th>\n",
       "      <th>Drama</th>\n",
       "      <th>Action</th>\n",
       "      <th>Crime</th>\n",
       "      <th>Thriller</th>\n",
       "      <th>Horror</th>\n",
       "      <th>Mystery</th>\n",
       "      <th>Sci-Fi</th>\n",
       "      <th>War</th>\n",
       "      <th>Musical</th>\n",
       "      <th>Documentary</th>\n",
       "      <th>IMAX</th>\n",
       "      <th>Western</th>\n",
       "      <th>Film-Noir</th>\n",
       "      <th>(no genres listed)</th>\n",
       "    </tr>\n",
       "  </thead>\n",
       "  <tbody>\n",
       "    <tr>\n",
       "      <th>3154</th>\n",
       "      <td>0</td>\n",
       "      <td>1</td>\n",
       "      <td>1</td>\n",
       "      <td>0</td>\n",
       "      <td>0</td>\n",
       "      <td>0</td>\n",
       "      <td>0</td>\n",
       "      <td>0</td>\n",
       "      <td>0</td>\n",
       "      <td>0</td>\n",
       "      <td>0</td>\n",
       "      <td>0</td>\n",
       "      <td>0</td>\n",
       "      <td>0</td>\n",
       "      <td>0</td>\n",
       "      <td>0</td>\n",
       "      <td>0</td>\n",
       "      <td>0</td>\n",
       "      <td>0</td>\n",
       "      <td>0</td>\n",
       "    </tr>\n",
       "    <tr>\n",
       "      <th>1753</th>\n",
       "      <td>0</td>\n",
       "      <td>0</td>\n",
       "      <td>0</td>\n",
       "      <td>0</td>\n",
       "      <td>0</td>\n",
       "      <td>0</td>\n",
       "      <td>1</td>\n",
       "      <td>0</td>\n",
       "      <td>0</td>\n",
       "      <td>0</td>\n",
       "      <td>0</td>\n",
       "      <td>0</td>\n",
       "      <td>0</td>\n",
       "      <td>0</td>\n",
       "      <td>0</td>\n",
       "      <td>0</td>\n",
       "      <td>0</td>\n",
       "      <td>0</td>\n",
       "      <td>0</td>\n",
       "      <td>0</td>\n",
       "    </tr>\n",
       "  </tbody>\n",
       "</table>\n",
       "</div>"
      ],
      "text/plain": [
       "      Adventure  Animation  Children  Comedy  Fantasy  Romance  Drama  Action  \\\n",
       "3154          0          1         1       0        0        0      0       0   \n",
       "1753          0          0         0       0        0        0      1       0   \n",
       "\n",
       "      Crime  Thriller  Horror  Mystery  Sci-Fi  War  Musical  Documentary  \\\n",
       "3154      0         0       0        0       0    0        0            0   \n",
       "1753      0         0       0        0       0    0        0            0   \n",
       "\n",
       "      IMAX  Western  Film-Noir  (no genres listed)  \n",
       "3154     0        0          0                   0  \n",
       "1753     0        0          0                   0  "
      ]
     },
     "execution_count": 9,
     "metadata": {},
     "output_type": "execute_result"
    }
   ],
   "source": [
    "# Slicing only the genre columns\n",
    "\n",
    "movies_sub = movies.iloc[:,3:]\n",
    "movies_sub.sample(2)"
   ]
  },
  {
   "cell_type": "code",
   "execution_count": 10,
   "metadata": {},
   "outputs": [],
   "source": [
    "# importing packages\n",
    "import sklearn\n",
    "from sklearn.cluster import AgglomerativeClustering"
   ]
  },
  {
   "cell_type": "code",
   "execution_count": 11,
   "metadata": {},
   "outputs": [],
   "source": [
    "hclust = AgglomerativeClustering(n_clusters = 8,affinity = 'cosine', linkage = 'complete')"
   ]
  },
  {
   "cell_type": "code",
   "execution_count": 12,
   "metadata": {},
   "outputs": [
    {
     "data": {
      "text/plain": [
       "AgglomerativeClustering(affinity='cosine', compute_full_tree='auto',\n",
       "                        connectivity=None, distance_threshold=None,\n",
       "                        linkage='complete', memory=None, n_clusters=8,\n",
       "                        pooling_func='deprecated')"
      ]
     },
     "execution_count": 12,
     "metadata": {},
     "output_type": "execute_result"
    }
   ],
   "source": [
    "hclust.fit(movies_sub)"
   ]
  },
  {
   "cell_type": "code",
   "execution_count": 13,
   "metadata": {},
   "outputs": [],
   "source": [
    "movies['groups'] = hclust.labels_"
   ]
  },
  {
   "cell_type": "markdown",
   "metadata": {},
   "source": [
    "### Finding genres with highest frequency within each group"
   ]
  },
  {
   "cell_type": "code",
   "execution_count": 14,
   "metadata": {
    "scrolled": true
   },
   "outputs": [
    {
     "data": {
      "text/plain": [
       "Horror                  167\n",
       "Horror|Thriller         135\n",
       "Crime|Drama             134\n",
       "Crime|Drama|Thriller    125\n",
       "Drama|War               114\n",
       "Comedy|Crime            101\n",
       "Thriller                 84\n",
       "Children|Comedy          74\n",
       "Horror|Sci-Fi            53\n",
       "Crime|Thriller           45\n",
       "Name: genres, dtype: int64"
      ]
     },
     "execution_count": 14,
     "metadata": {},
     "output_type": "execute_result"
    }
   ],
   "source": [
    "genre_list = movies[movies['groups'] == 0]['genres'].value_counts()\n",
    "genre_list[0:10]\n",
    "\n",
    "\n",
    "# Horror-Thriller"
   ]
  },
  {
   "cell_type": "code",
   "execution_count": 15,
   "metadata": {},
   "outputs": [
    {
     "data": {
      "text/plain": [
       "Comedy                    946\n",
       "Comedy|Drama              435\n",
       "Comedy|Romance            363\n",
       "Comedy|Drama|Romance      276\n",
       "Comedy|Horror              69\n",
       "Adventure|Comedy           36\n",
       "Comedy|Fantasy             33\n",
       "Comedy|Documentary         31\n",
       "Animation|Comedy           30\n",
       "Comedy|Fantasy|Romance     24\n",
       "Name: genres, dtype: int64"
      ]
     },
     "execution_count": 15,
     "metadata": {},
     "output_type": "execute_result"
    }
   ],
   "source": [
    "genre_list = movies[movies['groups'] == 1]['genres'].value_counts()\n",
    "genre_list[0:10]\n",
    "\n",
    "# Romcom"
   ]
  },
  {
   "cell_type": "code",
   "execution_count": 16,
   "metadata": {},
   "outputs": [
    {
     "data": {
      "text/plain": [
       "Action|Comedy                  92\n",
       "Action|Crime|Thriller          66\n",
       "Action|Drama                   62\n",
       "Action|Crime|Drama|Thriller    61\n",
       "Action                         60\n",
       "Action|Thriller                60\n",
       "Action|Sci-Fi|Thriller         43\n",
       "Action|Drama|Thriller          43\n",
       "Action|Adventure|Fantasy       41\n",
       "Action|Adventure|Thriller      40\n",
       "Name: genres, dtype: int64"
      ]
     },
     "execution_count": 16,
     "metadata": {},
     "output_type": "execute_result"
    }
   ],
   "source": [
    "genre_list = movies[movies['groups'] == 2]['genres'].value_counts()\n",
    "genre_list[0:10]\n",
    "\n",
    "# Action"
   ]
  },
  {
   "cell_type": "code",
   "execution_count": 17,
   "metadata": {},
   "outputs": [
    {
     "data": {
      "text/plain": [
       "Drama                            1053\n",
       "Drama|Thriller                    168\n",
       "Action|Crime|Drama                 50\n",
       "Drama|Musical                      44\n",
       "Action|Drama|War                   41\n",
       "Drama|Horror|Thriller              40\n",
       "Drama|Sci-Fi                       30\n",
       "Drama|Horror                       26\n",
       "Drama|Fantasy                      24\n",
       "Drama|Horror|Mystery|Thriller      20\n",
       "Name: genres, dtype: int64"
      ]
     },
     "execution_count": 17,
     "metadata": {},
     "output_type": "execute_result"
    }
   ],
   "source": [
    "genre_list = movies[movies['groups'] == 3]['genres'].value_counts()\n",
    "genre_list[0:10]\n",
    "\n",
    "#Drama - movie with lots of suspense and action."
   ]
  },
  {
   "cell_type": "code",
   "execution_count": 18,
   "metadata": {},
   "outputs": [
    {
     "data": {
      "text/plain": [
       "Documentary                         339\n",
       "Documentary|Drama                    13\n",
       "Documentary|War                       9\n",
       "Documentary|IMAX                      6\n",
       "Crime|Documentary                     4\n",
       "Comedy|Documentary|Drama              2\n",
       "Documentary|Musical|IMAX              1\n",
       "Documentary|Drama|Thriller            1\n",
       "Comedy|Documentary|Drama|Romance      1\n",
       "Crime|Documentary|War                 1\n",
       "Name: genres, dtype: int64"
      ]
     },
     "execution_count": 18,
     "metadata": {},
     "output_type": "execute_result"
    }
   ],
   "source": [
    "genre_list = movies[movies['groups'] == 4]['genres'].value_counts()\n",
    "genre_list[0:10]\n",
    "\n",
    "# Documentary"
   ]
  },
  {
   "cell_type": "code",
   "execution_count": 19,
   "metadata": {},
   "outputs": [
    {
     "data": {
      "text/plain": [
       "Animation                          30\n",
       "Action|Animation|Crime              3\n",
       "Animation|Documentary               2\n",
       "Action|Animation|Children|Crime     2\n",
       "Animation|Crime|Drama               1\n",
       "Action|Animation|Crime|Drama        1\n",
       "Name: genres, dtype: int64"
      ]
     },
     "execution_count": 19,
     "metadata": {},
     "output_type": "execute_result"
    }
   ],
   "source": [
    "genre_list = movies[movies['groups'] == 5]['genres'].value_counts()\n",
    "genre_list[0:10]\n",
    "\n",
    "# Animation"
   ]
  },
  {
   "cell_type": "code",
   "execution_count": 20,
   "metadata": {},
   "outputs": [
    {
     "data": {
      "text/plain": [
       "Action|Adventure|Sci-Fi                66\n",
       "Adventure|Drama                        41\n",
       "Adventure|Animation|Children|Comedy    31\n",
       "Adventure|Children                     23\n",
       "Adventure|Animation|Children           16\n",
       "Adventure|Sci-Fi                       15\n",
       "Adventure|Animation|Comedy             13\n",
       "Adventure|Comedy|Sci-Fi                13\n",
       "Adventure|Comedy|Drama                 12\n",
       "Adventure                              12\n",
       "Name: genres, dtype: int64"
      ]
     },
     "execution_count": 20,
     "metadata": {},
     "output_type": "execute_result"
    }
   ],
   "source": [
    "genre_list = movies[movies['groups'] == 6]['genres'].value_counts()\n",
    "genre_list[0:10]\n",
    "\n",
    "# Children"
   ]
  },
  {
   "cell_type": "code",
   "execution_count": 47,
   "metadata": {},
   "outputs": [
    {
     "data": {
      "text/plain": [
       "Drama|Romance                     349\n",
       "Romance                            21\n",
       "Drama|Musical|Romance              21\n",
       "Drama|Fantasy|Romance              18\n",
       "Adventure|Drama|Romance            15\n",
       "Adventure|Comedy|Romance           13\n",
       "Drama|Romance|Thriller             11\n",
       "Drama|Mystery|Romance               9\n",
       "Drama|Mystery|Romance|Thriller      9\n",
       "Crime|Drama|Romance|Thriller        9\n",
       "Name: genres, dtype: int64"
      ]
     },
     "execution_count": 47,
     "metadata": {},
     "output_type": "execute_result"
    }
   ],
   "source": [
    "genre_list = movies[movies['groups'] == 7]['genres'].value_counts()\n",
    "genre_list[0:10]\n",
    "\n",
    "# Romance"
   ]
  },
  {
   "cell_type": "code",
   "execution_count": 21,
   "metadata": {},
   "outputs": [],
   "source": [
    "# combining groups 5 and 6 since they both have the same type of movies and group 6 has considerably less number of movies\n",
    "\n",
    "movies.loc[movies['groups']==6,'groups']= 5\n",
    "movies.loc[movies['groups']==7,'groups']= 6"
   ]
  },
  {
   "cell_type": "code",
   "execution_count": 22,
   "metadata": {},
   "outputs": [
    {
     "data": {
      "text/plain": [
       "(9742, 24)"
      ]
     },
     "execution_count": 22,
     "metadata": {},
     "output_type": "execute_result"
    }
   ],
   "source": [
    "movies.shape"
   ]
  },
  {
   "cell_type": "markdown",
   "metadata": {},
   "source": [
    "## Model 2 - RECOMMENDATION BASED ON MOVIE RATINGS\n",
    "\n",
    "* We have used a weighted rating formula to find the movie score. (Ref - https://www.datacamp.com/community/tutorials/recommender-systems-python)\n",
    "* We can see the highest rated movies after doing a descending sort on the movie score."
   ]
  },
  {
   "cell_type": "code",
   "execution_count": 23,
   "metadata": {},
   "outputs": [],
   "source": [
    "ratings = pd.read_csv((\"D:\\\\Praxis\\\\ML\\\\data\\\\ml-latest-small\\\\ratings.csv\"))"
   ]
  },
  {
   "cell_type": "code",
   "execution_count": 24,
   "metadata": {},
   "outputs": [],
   "source": [
    "data = pd.merge(ratings,movies, how = 'left', on = 'movieId')"
   ]
  },
  {
   "cell_type": "code",
   "execution_count": 25,
   "metadata": {},
   "outputs": [
    {
     "data": {
      "text/html": [
       "<div>\n",
       "<style scoped>\n",
       "    .dataframe tbody tr th:only-of-type {\n",
       "        vertical-align: middle;\n",
       "    }\n",
       "\n",
       "    .dataframe tbody tr th {\n",
       "        vertical-align: top;\n",
       "    }\n",
       "\n",
       "    .dataframe thead th {\n",
       "        text-align: right;\n",
       "    }\n",
       "</style>\n",
       "<table border=\"1\" class=\"dataframe\">\n",
       "  <thead>\n",
       "    <tr style=\"text-align: right;\">\n",
       "      <th></th>\n",
       "      <th>userId</th>\n",
       "      <th>movieId</th>\n",
       "      <th>rating</th>\n",
       "      <th>timestamp</th>\n",
       "      <th>Unnamed: 4</th>\n",
       "      <th>Unnamed: 5</th>\n",
       "      <th>Unnamed: 6</th>\n",
       "      <th>Unnamed: 7</th>\n",
       "      <th>Unnamed: 8</th>\n",
       "      <th>Unnamed: 9</th>\n",
       "      <th>...</th>\n",
       "      <th>Mystery</th>\n",
       "      <th>Sci-Fi</th>\n",
       "      <th>War</th>\n",
       "      <th>Musical</th>\n",
       "      <th>Documentary</th>\n",
       "      <th>IMAX</th>\n",
       "      <th>Western</th>\n",
       "      <th>Film-Noir</th>\n",
       "      <th>(no genres listed)</th>\n",
       "      <th>groups</th>\n",
       "    </tr>\n",
       "  </thead>\n",
       "  <tbody>\n",
       "    <tr>\n",
       "      <th>46326</th>\n",
       "      <td>305</td>\n",
       "      <td>56156</td>\n",
       "      <td>4.5</td>\n",
       "      <td>1460137045</td>\n",
       "      <td>NaN</td>\n",
       "      <td>NaN</td>\n",
       "      <td>NaN</td>\n",
       "      <td>NaN</td>\n",
       "      <td>NaN</td>\n",
       "      <td>NaN</td>\n",
       "      <td>...</td>\n",
       "      <td>0</td>\n",
       "      <td>0</td>\n",
       "      <td>0</td>\n",
       "      <td>0</td>\n",
       "      <td>0</td>\n",
       "      <td>0</td>\n",
       "      <td>0</td>\n",
       "      <td>0</td>\n",
       "      <td>0</td>\n",
       "      <td>2</td>\n",
       "    </tr>\n",
       "    <tr>\n",
       "      <th>9501</th>\n",
       "      <td>64</td>\n",
       "      <td>595</td>\n",
       "      <td>3.5</td>\n",
       "      <td>1161520447</td>\n",
       "      <td>NaN</td>\n",
       "      <td>NaN</td>\n",
       "      <td>NaN</td>\n",
       "      <td>NaN</td>\n",
       "      <td>NaN</td>\n",
       "      <td>NaN</td>\n",
       "      <td>...</td>\n",
       "      <td>0</td>\n",
       "      <td>0</td>\n",
       "      <td>0</td>\n",
       "      <td>1</td>\n",
       "      <td>0</td>\n",
       "      <td>1</td>\n",
       "      <td>0</td>\n",
       "      <td>0</td>\n",
       "      <td>0</td>\n",
       "      <td>0</td>\n",
       "    </tr>\n",
       "  </tbody>\n",
       "</table>\n",
       "<p>2 rows × 37 columns</p>\n",
       "</div>"
      ],
      "text/plain": [
       "       userId  movieId  rating   timestamp  Unnamed: 4  Unnamed: 5  \\\n",
       "46326     305    56156     4.5  1460137045         NaN         NaN   \n",
       "9501       64      595     3.5  1161520447         NaN         NaN   \n",
       "\n",
       "       Unnamed: 6  Unnamed: 7  Unnamed: 8  Unnamed: 9  ...  Mystery  Sci-Fi  \\\n",
       "46326         NaN         NaN         NaN         NaN  ...        0       0   \n",
       "9501          NaN         NaN         NaN         NaN  ...        0       0   \n",
       "\n",
       "       War  Musical Documentary IMAX  Western  Film-Noir  (no genres listed)  \\\n",
       "46326    0        0           0    0        0          0                   0   \n",
       "9501     0        1           0    1        0          0                   0   \n",
       "\n",
       "       groups  \n",
       "46326       2  \n",
       "9501        0  \n",
       "\n",
       "[2 rows x 37 columns]"
      ]
     },
     "execution_count": 25,
     "metadata": {},
     "output_type": "execute_result"
    }
   ],
   "source": [
    "data.sample(2)"
   ]
  },
  {
   "cell_type": "code",
   "execution_count": 26,
   "metadata": {},
   "outputs": [],
   "source": [
    "df = data.groupby('movieId',as_index=False)['rating'].mean()"
   ]
  },
  {
   "cell_type": "code",
   "execution_count": 27,
   "metadata": {},
   "outputs": [],
   "source": [
    "df['votes'] = data.groupby('movieId',as_index=False).count()['rating']"
   ]
  },
  {
   "cell_type": "code",
   "execution_count": 28,
   "metadata": {},
   "outputs": [
    {
     "data": {
      "text/html": [
       "<div>\n",
       "<style scoped>\n",
       "    .dataframe tbody tr th:only-of-type {\n",
       "        vertical-align: middle;\n",
       "    }\n",
       "\n",
       "    .dataframe tbody tr th {\n",
       "        vertical-align: top;\n",
       "    }\n",
       "\n",
       "    .dataframe thead th {\n",
       "        text-align: right;\n",
       "    }\n",
       "</style>\n",
       "<table border=\"1\" class=\"dataframe\">\n",
       "  <thead>\n",
       "    <tr style=\"text-align: right;\">\n",
       "      <th></th>\n",
       "      <th>movieId</th>\n",
       "      <th>rating</th>\n",
       "      <th>votes</th>\n",
       "    </tr>\n",
       "  </thead>\n",
       "  <tbody>\n",
       "    <tr>\n",
       "      <th>2105</th>\n",
       "      <td>2800</td>\n",
       "      <td>2.500000</td>\n",
       "      <td>1</td>\n",
       "    </tr>\n",
       "    <tr>\n",
       "      <th>2336</th>\n",
       "      <td>3096</td>\n",
       "      <td>5.000000</td>\n",
       "      <td>1</td>\n",
       "    </tr>\n",
       "    <tr>\n",
       "      <th>7001</th>\n",
       "      <td>68358</td>\n",
       "      <td>3.864407</td>\n",
       "      <td>59</td>\n",
       "    </tr>\n",
       "    <tr>\n",
       "      <th>7891</th>\n",
       "      <td>95182</td>\n",
       "      <td>3.000000</td>\n",
       "      <td>2</td>\n",
       "    </tr>\n",
       "    <tr>\n",
       "      <th>531</th>\n",
       "      <td>626</td>\n",
       "      <td>5.000000</td>\n",
       "      <td>1</td>\n",
       "    </tr>\n",
       "  </tbody>\n",
       "</table>\n",
       "</div>"
      ],
      "text/plain": [
       "      movieId    rating  votes\n",
       "2105     2800  2.500000      1\n",
       "2336     3096  5.000000      1\n",
       "7001    68358  3.864407     59\n",
       "7891    95182  3.000000      2\n",
       "531       626  5.000000      1"
      ]
     },
     "execution_count": 28,
     "metadata": {},
     "output_type": "execute_result"
    }
   ],
   "source": [
    "df.sample(5)"
   ]
  },
  {
   "cell_type": "code",
   "execution_count": 29,
   "metadata": {},
   "outputs": [],
   "source": [
    "def recommender_func(data,min_votes):\n",
    "  nw_data = data.copy()\n",
    "\n",
    "  nw_data = nw_data.loc[nw_data['votes'] >= min_votes]\n",
    "  denom = nw_data['votes'] + min_votes\n",
    "  WR = ((nw_data['votes']/denom) * nw_data['rating']) + ((min_votes/denom) * np.mean(nw_data['rating']))\n",
    "\n",
    "  nw_data['scores'] = WR\n",
    "  return nw_data\n"
   ]
  },
  {
   "cell_type": "code",
   "execution_count": 30,
   "metadata": {},
   "outputs": [
    {
     "data": {
      "text/html": [
       "<div>\n",
       "<style scoped>\n",
       "    .dataframe tbody tr th:only-of-type {\n",
       "        vertical-align: middle;\n",
       "    }\n",
       "\n",
       "    .dataframe tbody tr th {\n",
       "        vertical-align: top;\n",
       "    }\n",
       "\n",
       "    .dataframe thead th {\n",
       "        text-align: right;\n",
       "    }\n",
       "</style>\n",
       "<table border=\"1\" class=\"dataframe\">\n",
       "  <thead>\n",
       "    <tr style=\"text-align: right;\">\n",
       "      <th></th>\n",
       "      <th>movieId</th>\n",
       "      <th>rating</th>\n",
       "      <th>votes</th>\n",
       "      <th>scores</th>\n",
       "      <th>title</th>\n",
       "      <th>genres</th>\n",
       "      <th>groups</th>\n",
       "    </tr>\n",
       "  </thead>\n",
       "  <tbody>\n",
       "    <tr>\n",
       "      <th>158</th>\n",
       "      <td>318</td>\n",
       "      <td>4.429022</td>\n",
       "      <td>317</td>\n",
       "      <td>4.398534</td>\n",
       "      <td>Shawshank Redemption, The (1994)</td>\n",
       "      <td>Crime|Drama</td>\n",
       "      <td>0</td>\n",
       "    </tr>\n",
       "    <tr>\n",
       "      <th>346</th>\n",
       "      <td>858</td>\n",
       "      <td>4.289062</td>\n",
       "      <td>192</td>\n",
       "      <td>4.246636</td>\n",
       "      <td>Godfather, The (1972)</td>\n",
       "      <td>Crime|Drama</td>\n",
       "      <td>0</td>\n",
       "    </tr>\n",
       "    <tr>\n",
       "      <th>1055</th>\n",
       "      <td>2959</td>\n",
       "      <td>4.272936</td>\n",
       "      <td>218</td>\n",
       "      <td>4.236055</td>\n",
       "      <td>Fight Club (1999)</td>\n",
       "      <td>Action|Crime|Drama|Thriller</td>\n",
       "      <td>2</td>\n",
       "    </tr>\n",
       "    <tr>\n",
       "      <th>131</th>\n",
       "      <td>260</td>\n",
       "      <td>4.231076</td>\n",
       "      <td>251</td>\n",
       "      <td>4.200462</td>\n",
       "      <td>Star Wars: Episode IV - A New Hope (1977)</td>\n",
       "      <td>Action|Adventure|Sci-Fi</td>\n",
       "      <td>5</td>\n",
       "    </tr>\n",
       "    <tr>\n",
       "      <th>488</th>\n",
       "      <td>1221</td>\n",
       "      <td>4.259690</td>\n",
       "      <td>129</td>\n",
       "      <td>4.200148</td>\n",
       "      <td>Godfather: Part II, The (1974)</td>\n",
       "      <td>Crime|Drama</td>\n",
       "      <td>0</td>\n",
       "    </tr>\n",
       "  </tbody>\n",
       "</table>\n",
       "</div>"
      ],
      "text/plain": [
       "      movieId    rating  votes    scores  \\\n",
       "158       318  4.429022    317  4.398534   \n",
       "346       858  4.289062    192  4.246636   \n",
       "1055     2959  4.272936    218  4.236055   \n",
       "131       260  4.231076    251  4.200462   \n",
       "488      1221  4.259690    129  4.200148   \n",
       "\n",
       "                                          title                       genres  \\\n",
       "158            Shawshank Redemption, The (1994)                  Crime|Drama   \n",
       "346                       Godfather, The (1972)                  Crime|Drama   \n",
       "1055                          Fight Club (1999)  Action|Crime|Drama|Thriller   \n",
       "131   Star Wars: Episode IV - A New Hope (1977)      Action|Adventure|Sci-Fi   \n",
       "488              Godfather: Part II, The (1974)                  Crime|Drama   \n",
       "\n",
       "      groups  \n",
       "158        0  \n",
       "346        0  \n",
       "1055       2  \n",
       "131        5  \n",
       "488        0  "
      ]
     },
     "execution_count": 30,
     "metadata": {},
     "output_type": "execute_result"
    }
   ],
   "source": [
    "top_movies = recommender_func(df,10)\n",
    "movie_df = data.groupby('movieId',as_index=False).min()[['movieId','title','genres','groups']]\n",
    "\n",
    "top_movies = top_movies.merge(movie_df, how = 'inner', on = 'movieId').sort_values('scores',ascending=False)\n",
    "top_movies.head()"
   ]
  },
  {
   "cell_type": "code",
   "execution_count": 31,
   "metadata": {},
   "outputs": [],
   "source": [
    "# adding category names to the top movies dataframe\n",
    "\n",
    "top_movies.loc[top_movies['groups'] == 6,'Category'] = 'Romance'\n",
    "top_movies.loc[top_movies['groups'] == 5,'Category'] = 'Animation'\n",
    "top_movies.loc[top_movies['groups'] == 4,'Category'] = 'Documentary'\n",
    "top_movies.loc[top_movies['groups'] == 3,'Category'] = 'Drama'\n",
    "top_movies.loc[top_movies['groups'] == 2,'Category'] = 'Action-Thriller'\n",
    "top_movies.loc[top_movies['groups'] == 1,'Category'] = 'Romcom'\n",
    "top_movies.loc[top_movies['groups'] == 0,'Category'] = 'Horror Thriller'"
   ]
  },
  {
   "cell_type": "code",
   "execution_count": 32,
   "metadata": {},
   "outputs": [],
   "source": [
    "# Extracting year_released from movie title\n",
    "\n",
    "years = []\n",
    "\n",
    "for title in top_movies.title:\n",
    "    if title.find('(18') != -1:\n",
    "        x = title.find('(18')\n",
    "        years.append(int(title[x+1:x+5]))\n",
    "    \n",
    "    elif title.find('(19') != -1:\n",
    "        x = title.find('(19')\n",
    "        years.append(int(title[x+1:x+5]))\n",
    "        \n",
    "    elif title.find('(20') != -1:\n",
    "        x = title.find('(20')\n",
    "        years.append(int(title[x+1:x+5]))\n",
    "    \n",
    "    else:\n",
    "        years.append(9999)"
   ]
  },
  {
   "cell_type": "code",
   "execution_count": 33,
   "metadata": {},
   "outputs": [],
   "source": [
    "top_movies['year_released'] = years"
   ]
  },
  {
   "cell_type": "markdown",
   "metadata": {},
   "source": [
    "### Filtering based on decades, say 70s, 80s, 90s"
   ]
  },
  {
   "cell_type": "code",
   "execution_count": 34,
   "metadata": {},
   "outputs": [
    {
     "data": {
      "text/html": [
       "<div>\n",
       "<style scoped>\n",
       "    .dataframe tbody tr th:only-of-type {\n",
       "        vertical-align: middle;\n",
       "    }\n",
       "\n",
       "    .dataframe tbody tr th {\n",
       "        vertical-align: top;\n",
       "    }\n",
       "\n",
       "    .dataframe thead th {\n",
       "        text-align: right;\n",
       "    }\n",
       "</style>\n",
       "<table border=\"1\" class=\"dataframe\">\n",
       "  <thead>\n",
       "    <tr style=\"text-align: right;\">\n",
       "      <th></th>\n",
       "      <th>movieId</th>\n",
       "      <th>rating</th>\n",
       "      <th>votes</th>\n",
       "      <th>scores</th>\n",
       "      <th>title</th>\n",
       "      <th>genres</th>\n",
       "      <th>groups</th>\n",
       "      <th>Category</th>\n",
       "      <th>year_released</th>\n",
       "    </tr>\n",
       "  </thead>\n",
       "  <tbody>\n",
       "    <tr>\n",
       "      <th>158</th>\n",
       "      <td>318</td>\n",
       "      <td>4.429022</td>\n",
       "      <td>317</td>\n",
       "      <td>4.398534</td>\n",
       "      <td>Shawshank Redemption, The (1994)</td>\n",
       "      <td>Crime|Drama</td>\n",
       "      <td>0</td>\n",
       "      <td>Horror Thriller</td>\n",
       "      <td>1994</td>\n",
       "    </tr>\n",
       "    <tr>\n",
       "      <th>346</th>\n",
       "      <td>858</td>\n",
       "      <td>4.289062</td>\n",
       "      <td>192</td>\n",
       "      <td>4.246636</td>\n",
       "      <td>Godfather, The (1972)</td>\n",
       "      <td>Crime|Drama</td>\n",
       "      <td>0</td>\n",
       "      <td>Horror Thriller</td>\n",
       "      <td>1972</td>\n",
       "    </tr>\n",
       "  </tbody>\n",
       "</table>\n",
       "</div>"
      ],
      "text/plain": [
       "     movieId    rating  votes    scores                             title  \\\n",
       "158      318  4.429022    317  4.398534  Shawshank Redemption, The (1994)   \n",
       "346      858  4.289062    192  4.246636             Godfather, The (1972)   \n",
       "\n",
       "          genres  groups         Category  year_released  \n",
       "158  Crime|Drama       0  Horror Thriller           1994  \n",
       "346  Crime|Drama       0  Horror Thriller           1972  "
      ]
     },
     "execution_count": 34,
     "metadata": {},
     "output_type": "execute_result"
    }
   ],
   "source": [
    "top_movies = top_movies.sort_values(by = 'scores',ascending = False)\n",
    "top_movies.head(2)"
   ]
  },
  {
   "cell_type": "code",
   "execution_count": 37,
   "metadata": {},
   "outputs": [],
   "source": [
    "# movie titles have 'the' displayed at the end. Taking it to the start using a simple function\n",
    "\n",
    "def the_fn(s):\n",
    "    if (\", The\" in s):\n",
    "        s = s.replace(\", The\",\"\")\n",
    "        s = \"The \" + s\n",
    "    return s"
   ]
  },
  {
   "cell_type": "markdown",
   "metadata": {},
   "source": [
    "x = the_fn(\"Ajith, The\")\n",
    "x"
   ]
  },
  {
   "cell_type": "code",
   "execution_count": 38,
   "metadata": {},
   "outputs": [],
   "source": [
    "xd = ([the_fn(x) for x in top_movies['title']])"
   ]
  },
  {
   "cell_type": "code",
   "execution_count": 39,
   "metadata": {},
   "outputs": [],
   "source": [
    "top_movies.drop(['title'], axis=1)\n",
    "top_movies['title'] = xd"
   ]
  },
  {
   "cell_type": "markdown",
   "metadata": {},
   "source": [
    "### Suggesting movies based on timeline and category of their choice"
   ]
  },
  {
   "cell_type": "code",
   "execution_count": 66,
   "metadata": {},
   "outputs": [
    {
     "name": "stdout",
     "output_type": "stream",
     "text": [
      "\n",
      "Categories\n",
      "----------\n",
      "1. Romance\t2. Animation\t3.Documentary\n",
      "4.Drama\t5.Action-Thriller\t6.Romcom\n",
      "7.Horror Thriller\t8.No Preference\n",
      "\n",
      "What category do you want to check out?Romance\n",
      "\n",
      "\n",
      "Movies from what time do you like? For example 90s. You can also say no preference... 00\n",
      "\n",
      "\n"
     ]
    },
    {
     "data": {
      "text/html": [
       "<div>\n",
       "<style scoped>\n",
       "    .dataframe tbody tr th:only-of-type {\n",
       "        vertical-align: middle;\n",
       "    }\n",
       "\n",
       "    .dataframe tbody tr th {\n",
       "        vertical-align: top;\n",
       "    }\n",
       "\n",
       "    .dataframe thead th {\n",
       "        text-align: right;\n",
       "    }\n",
       "</style>\n",
       "<table border=\"1\" class=\"dataframe\">\n",
       "  <thead>\n",
       "    <tr style=\"text-align: right;\">\n",
       "      <th></th>\n",
       "      <th>Title</th>\n",
       "    </tr>\n",
       "  </thead>\n",
       "  <tbody>\n",
       "    <tr>\n",
       "      <th>0</th>\n",
       "      <td>The Lives of Others (Das leben der Anderen) (2...</td>\n",
       "    </tr>\n",
       "    <tr>\n",
       "      <th>1</th>\n",
       "      <td>Beautiful Mind, A (2001)</td>\n",
       "    </tr>\n",
       "    <tr>\n",
       "      <th>2</th>\n",
       "      <td>In the Mood For Love (Fa yeung nin wa) (2000)</td>\n",
       "    </tr>\n",
       "    <tr>\n",
       "      <th>3</th>\n",
       "      <td>Cinderella Man (2005)</td>\n",
       "    </tr>\n",
       "    <tr>\n",
       "      <th>4</th>\n",
       "      <td>Crouching Tiger, Hidden Dragon (Wo hu cang lon...</td>\n",
       "    </tr>\n",
       "    <tr>\n",
       "      <th>5</th>\n",
       "      <td>And Your Mother Too (Y tu mamá también) (2001)</td>\n",
       "    </tr>\n",
       "    <tr>\n",
       "      <th>6</th>\n",
       "      <td>Talk to Her (Hable con Ella) (2002)</td>\n",
       "    </tr>\n",
       "    <tr>\n",
       "      <th>7</th>\n",
       "      <td>Big Fish (2003)</td>\n",
       "    </tr>\n",
       "    <tr>\n",
       "      <th>8</th>\n",
       "      <td>The Girl Who Leapt Through Time (Toki o kakeru...</td>\n",
       "    </tr>\n",
       "    <tr>\n",
       "      <th>9</th>\n",
       "      <td>The Illusionist (2006)</td>\n",
       "    </tr>\n",
       "  </tbody>\n",
       "</table>\n",
       "</div>"
      ],
      "text/plain": [
       "                                               Title\n",
       "0  The Lives of Others (Das leben der Anderen) (2...\n",
       "1                           Beautiful Mind, A (2001)\n",
       "2      In the Mood For Love (Fa yeung nin wa) (2000)\n",
       "3                              Cinderella Man (2005)\n",
       "4  Crouching Tiger, Hidden Dragon (Wo hu cang lon...\n",
       "5     And Your Mother Too (Y tu mamá también) (2001)\n",
       "6                Talk to Her (Hable con Ella) (2002)\n",
       "7                                    Big Fish (2003)\n",
       "8  The Girl Who Leapt Through Time (Toki o kakeru...\n",
       "9                             The Illusionist (2006)"
      ]
     },
     "execution_count": 66,
     "metadata": {},
     "output_type": "execute_result"
    }
   ],
   "source": [
    "top_movies = top_movies.sort_values(by = 'scores',ascending = False)\n",
    "\n",
    "print(\"\\nCategories\") #option for multiple ctegories next\n",
    "print(\"-\"*10)\n",
    "print(\"1. Romance\\t2. Animation\\t3.Documentary\\n4.Drama\\t5.Action-Thriller\\t6.Romcom\\n7.Horror Thriller\\t8.No Preference\\n\")\n",
    "category = input('What category do you want to check out?')\n",
    "print(\"\\n\")\n",
    "year = int(input(\"Movies from what time do you like? For example 90s. You can also say no preference... \"))\n",
    "print(\"\\n\")\n",
    "\n",
    "if (year < 20):\n",
    "    starting_year = year + 2000\n",
    "else:\n",
    "    starting_year = year + 1900\n",
    "\n",
    "ending_year = starting_year + 9\n",
    "\n",
    "x = (top_movies.loc[(top_movies['Category']==category) & (top_movies['year_released'] >= starting_year) & (top_movies['year_released'] <= ending_year)]['title'].head(10).values)\n",
    "rec_movies = pd.DataFrame(x)\n",
    "rec_movies.columns = ['Title']\n",
    "rec_movies"
   ]
  },
  {
   "cell_type": "code",
   "execution_count": 65,
   "metadata": {},
   "outputs": [
    {
     "data": {
      "text/html": [
       "<div>\n",
       "<style scoped>\n",
       "    .dataframe tbody tr th:only-of-type {\n",
       "        vertical-align: middle;\n",
       "    }\n",
       "\n",
       "    .dataframe tbody tr th {\n",
       "        vertical-align: top;\n",
       "    }\n",
       "\n",
       "    .dataframe thead th {\n",
       "        text-align: right;\n",
       "    }\n",
       "</style>\n",
       "<table border=\"1\" class=\"dataframe\">\n",
       "  <thead>\n",
       "    <tr style=\"text-align: right;\">\n",
       "      <th></th>\n",
       "      <th>Title</th>\n",
       "    </tr>\n",
       "  </thead>\n",
       "  <tbody>\n",
       "    <tr>\n",
       "      <th>0</th>\n",
       "      <td>The Lives of Others (Das leben der Anderen) (2...</td>\n",
       "    </tr>\n",
       "    <tr>\n",
       "      <th>1</th>\n",
       "      <td>Beautiful Mind, A (2001)</td>\n",
       "    </tr>\n",
       "    <tr>\n",
       "      <th>2</th>\n",
       "      <td>In the Mood For Love (Fa yeung nin wa) (2000)</td>\n",
       "    </tr>\n",
       "    <tr>\n",
       "      <th>3</th>\n",
       "      <td>Cinderella Man (2005)</td>\n",
       "    </tr>\n",
       "    <tr>\n",
       "      <th>4</th>\n",
       "      <td>Crouching Tiger, Hidden Dragon (Wo hu cang lon...</td>\n",
       "    </tr>\n",
       "    <tr>\n",
       "      <th>5</th>\n",
       "      <td>And Your Mother Too (Y tu mamá también) (2001)</td>\n",
       "    </tr>\n",
       "    <tr>\n",
       "      <th>6</th>\n",
       "      <td>Talk to Her (Hable con Ella) (2002)</td>\n",
       "    </tr>\n",
       "    <tr>\n",
       "      <th>7</th>\n",
       "      <td>Big Fish (2003)</td>\n",
       "    </tr>\n",
       "    <tr>\n",
       "      <th>8</th>\n",
       "      <td>The Girl Who Leapt Through Time (Toki o kakeru...</td>\n",
       "    </tr>\n",
       "    <tr>\n",
       "      <th>9</th>\n",
       "      <td>The Illusionist (2006)</td>\n",
       "    </tr>\n",
       "  </tbody>\n",
       "</table>\n",
       "</div>"
      ],
      "text/plain": [
       "                                               Title\n",
       "0  The Lives of Others (Das leben der Anderen) (2...\n",
       "1                           Beautiful Mind, A (2001)\n",
       "2      In the Mood For Love (Fa yeung nin wa) (2000)\n",
       "3                              Cinderella Man (2005)\n",
       "4  Crouching Tiger, Hidden Dragon (Wo hu cang lon...\n",
       "5     And Your Mother Too (Y tu mamá también) (2001)\n",
       "6                Talk to Her (Hable con Ella) (2002)\n",
       "7                                    Big Fish (2003)\n",
       "8  The Girl Who Leapt Through Time (Toki o kakeru...\n",
       "9                             The Illusionist (2006)"
      ]
     },
     "execution_count": 65,
     "metadata": {},
     "output_type": "execute_result"
    }
   ],
   "source": []
  },
  {
   "cell_type": "markdown",
   "metadata": {},
   "source": [
    "## Model 3 - RECOMMENDATION BASED ON MOVIE - MOVIE SIMILARITY\n",
    "\n",
    "* We have created the cosine similarity matrix for movies. This will give us the most similar movies to a specific movie.\n",
    "* Using 'ratings.csv', for a particular user, we filter to get recently watched(using a descending sort on timestamp) which he liked(based on rating).\n",
    "* For those movies, we will find 5 most similar movies using cosine sim matrix."
   ]
  },
  {
   "cell_type": "code",
   "execution_count": 41,
   "metadata": {},
   "outputs": [],
   "source": [
    "from sklearn.metrics.pairwise import cosine_similarity\n",
    "cos_movies = pd.DataFrame(cosine_similarity(movies_sub))\n",
    "cos_movies.index = movies['title']\n",
    "cos_movies.columns = movies['title']"
   ]
  },
  {
   "cell_type": "markdown",
   "metadata": {},
   "source": [
    "### Using recent movies Mr.X has watched and liked, suggesting similar movies to that"
   ]
  },
  {
   "cell_type": "code",
   "execution_count": 42,
   "metadata": {},
   "outputs": [],
   "source": [
    "def recent_movies(id, top = 5):\n",
    "    ratings1 = ratings.copy()\n",
    "    ratings1.sort_values(by = ['userId','timestamp','rating'], ascending=[True,False,False], inplace=True)\n",
    "\n",
    "    ratings1 = ratings1.loc[ratings1['userId'] == id]\n",
    "    max_rating =  ratings1['rating'].max()\n",
    "    \n",
    "    if max_rating <= 4.0:\n",
    "        ratings1 = ratings1.loc[ratings1['rating'] == max_rating]\n",
    "        return (ratings1.head(top)['movieId']).tolist()\n",
    "    else:\n",
    "        ratings1 = ratings1.loc[ratings1['rating'] >= 4.0]\n",
    "        return (ratings1.head(top)['movieId']).tolist()"
   ]
  },
  {
   "cell_type": "code",
   "execution_count": 43,
   "metadata": {},
   "outputs": [],
   "source": [
    "recent_liked_movies_ids = recent_movies(1)"
   ]
  },
  {
   "cell_type": "code",
   "execution_count": 44,
   "metadata": {},
   "outputs": [
    {
     "data": {
      "text/plain": [
       "['20 Dates (1998)',\n",
       " 'Back to the Future Part III (1990)',\n",
       " '¡Three Amigos! (1986)',\n",
       " 'Tombstone (1993)',\n",
       " 'Canadian Bacon (1995)']"
      ]
     },
     "execution_count": 44,
     "metadata": {},
     "output_type": "execute_result"
    }
   ],
   "source": [
    "recent_liked_movies_names = []\n",
    "for mid in recent_liked_movies_ids:\n",
    "    recent_liked_movies_names.append(movies.loc[movies['movieId'] == mid, 'title'].values[0])\n",
    "recent_liked_movies_names"
   ]
  },
  {
   "cell_type": "code",
   "execution_count": 55,
   "metadata": {},
   "outputs": [
    {
     "name": "stdout",
     "output_type": "stream",
     "text": [
      "Your recommendations based on recent watch history are...\n",
      "\n",
      "\n",
      ">>>> 20 Dates (1998)\n",
      "['Just Friends (2005)', 'When in Rome (2010)', \"Say It Isn't So (2001)\", 'Leap Year (2010)', 'The Girls (1961)']\n",
      "\n",
      ">>>> Back to the Future Part III (1990)\n",
      "['Back to the Future Part III (1990)', 'Back to the Future Part II (1989)', 'Our Man Flint (1965)', 'Almost Heroes (1998)', 'Paul (2011)']\n",
      "\n",
      ">>>> ¡Three Amigos! (1986)\n",
      "['City Slickers (1991)', 'Scalphunters, The (1968)', 'Trinity and Sartana Are Coming (1972)', 'Texas - Doc Snyder hält die Welt in Atem (1993)', 'Blazing Saddles (1974)']\n",
      "\n",
      ">>>> Tombstone (1993)\n",
      "[\"Once Upon a Time in the West (C'era una volta il West) (1968)\", 'Django Unchained (2012)', 'Tombstone (1993)', 'Jonah Hex (2010)', 'Treasure of the Sierra Madre, The (1948)']\n",
      "\n",
      ">>>> Canadian Bacon (1995)\n",
      "['Guy X (2005)', 'Canadian Bacon (1995)', 'Whiskey Tango Foxtrot (2016)', '1941 (1979)', 'And the Ship Sails On (E la nave va) (1983)']\n"
     ]
    }
   ],
   "source": [
    "print(\"Your recommendations based on recent watch history are...\\n\")\n",
    "for movie in recent_liked_movies_names:\n",
    "    print(\"\\n>>>>\",movie)\n",
    "    very_similar_movies = cos_movies.loc[movie,:].sort_values(ascending=False).head(5) \n",
    "    very_similar_movies_indices = very_similar_movies.index\n",
    "    print(list(very_similar_movies_indices))"
   ]
  },
  {
   "cell_type": "code",
   "execution_count": null,
   "metadata": {},
   "outputs": [],
   "source": []
  },
  {
   "cell_type": "code",
   "execution_count": null,
   "metadata": {},
   "outputs": [],
   "source": []
  }
 ],
 "metadata": {
  "kernelspec": {
   "display_name": "Python 3",
   "language": "python",
   "name": "python3"
  },
  "language_info": {
   "codemirror_mode": {
    "name": "ipython",
    "version": 3
   },
   "file_extension": ".py",
   "mimetype": "text/x-python",
   "name": "python",
   "nbconvert_exporter": "python",
   "pygments_lexer": "ipython3",
   "version": "3.8.3"
  }
 },
 "nbformat": 4,
 "nbformat_minor": 2
}
