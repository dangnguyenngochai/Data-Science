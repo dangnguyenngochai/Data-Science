{
 "cells": [
  {
   "cell_type": "markdown",
   "metadata": {},
   "source": [
    "### Importing Packages"
   ]
  },
  {
   "cell_type": "code",
   "execution_count": 5,
   "metadata": {},
   "outputs": [],
   "source": [
    "import pandas as pd  \n",
    "import numpy as np   \n",
    "import matplotlib.pyplot as plt  \n",
    "import seaborn as sns \n",
    "from sklearn.model_selection import train_test_split \n",
    "from sklearn.linear_model import LinearRegression\n",
    "from sklearn import metrics\n",
    "%matplotlib inline"
   ]
  },
  {
   "cell_type": "code",
   "execution_count": 6,
   "metadata": {},
   "outputs": [],
   "source": [
    "from sklearn.preprocessing import StandardScaler"
   ]
  },
  {
   "cell_type": "markdown",
   "metadata": {},
   "source": [
    "### Extracting training data"
   ]
  },
  {
   "cell_type": "code",
   "execution_count": 10,
   "metadata": {},
   "outputs": [],
   "source": [
    "KC_train = pd.read_csv(\"D:\\\\Praxis\\\\ML\\\\data\\\\kc-house-data\\\\wk3_kc_house_train_data.csv\")"
   ]
  },
  {
   "cell_type": "markdown",
   "metadata": {},
   "source": [
    "### zip code dummy variable creation"
   ]
  },
  {
   "cell_type": "code",
   "execution_count": 11,
   "metadata": {},
   "outputs": [],
   "source": [
    "from sklearn.preprocessing import LabelBinarizer\n",
    "lb = LabelBinarizer()\n",
    "zip_dummies = lb.fit_transform(KC_train['zipcode'])\n",
    "# you need to convert this back to a dataframe\n",
    "zip_dum_df = pd.DataFrame(zip_dummies,columns=lb.classes_)"
   ]
  },
  {
   "cell_type": "code",
   "execution_count": 12,
   "metadata": {},
   "outputs": [],
   "source": [
    "for i in zip_dum_df.columns:\n",
    "    KC_train[str(i)] = zip_dum_df[i]"
   ]
  },
  {
   "cell_type": "markdown",
   "metadata": {},
   "source": [
    "### Checking for missing values"
   ]
  },
  {
   "cell_type": "code",
   "execution_count": 19,
   "metadata": {},
   "outputs": [
    {
     "data": {
      "text/plain": [
       "0"
      ]
     },
     "execution_count": 19,
     "metadata": {},
     "output_type": "execute_result"
    }
   ],
   "source": [
    "miss = KC_train.isnull().sum()\n",
    "miss"
   ]
  },
  {
   "cell_type": "markdown",
   "metadata": {},
   "source": [
    "### Log transform on sqft_living"
   ]
  },
  {
   "cell_type": "code",
   "execution_count": null,
   "metadata": {},
   "outputs": [],
   "source": [
    "KC_train['log_sqft_living'] = np.log(KC_train['sqft_living'])\n",
    "KC_train=KC_train.drop([\"id\",\"date\",\"sqft_living\",\"yr_built\"],axis=1)"
   ]
  },
  {
   "cell_type": "markdown",
   "metadata": {},
   "source": [
    "### Dropping id and date columns"
   ]
  },
  {
   "cell_type": "code",
   "execution_count": 13,
   "metadata": {},
   "outputs": [],
   "source": [
    "KC_train=KC_train.drop([\"id\",\"date\"],axis=1)"
   ]
  },
  {
   "cell_type": "markdown",
   "metadata": {},
   "source": [
    "### Setting X and Y"
   ]
  },
  {
   "cell_type": "code",
   "execution_count": 14,
   "metadata": {},
   "outputs": [],
   "source": [
    "Y_train = KC_train[\"price\"].values\n",
    "y_train = np.log(Y_train)"
   ]
  },
  {
   "cell_type": "markdown",
   "metadata": {},
   "source": [
    "### Removing variables which are not significant and target variable"
   ]
  },
  {
   "cell_type": "code",
   "execution_count": 15,
   "metadata": {},
   "outputs": [],
   "source": [
    "removing_variable_list = ['price','zipcode','sqft_lot15','bedrooms','lat','long',\n",
    "                          'sqft_basement','sqft_above','sqft_lot','bathrooms','floors','yr_built']"
   ]
  },
  {
   "cell_type": "code",
   "execution_count": 16,
   "metadata": {},
   "outputs": [],
   "source": [
    "X_train = KC_train[list(set(KC_train.columns) - set(removing_variable_list))]"
   ]
  },
  {
   "cell_type": "code",
   "execution_count": 17,
   "metadata": {},
   "outputs": [
    {
     "data": {
      "text/plain": [
       "array([[    0.,     0.,     0., ...,     0., 98136.,     0.],\n",
       "       [    0.,     0.,     0., ...,     0., 98053.,     0.],\n",
       "       [    0.,     0.,     0., ...,     0., 98115.,     0.],\n",
       "       ...,\n",
       "       [    0.,     0.,     0., ...,     0., 98136.,     0.],\n",
       "       [    0.,     0.,     0., ...,     0., 98144.,     0.],\n",
       "       [    0.,     0.,     0., ...,     0., 98144.,     0.]])"
      ]
     },
     "execution_count": 17,
     "metadata": {},
     "output_type": "execute_result"
    }
   ],
   "source": [
    "X_train.values"
   ]
  },
  {
   "cell_type": "markdown",
   "metadata": {},
   "source": [
    "### Standardising data"
   ]
  },
  {
   "cell_type": "code",
   "execution_count": 18,
   "metadata": {},
   "outputs": [
    {
     "data": {
      "text/plain": [
       "array([[-0.09204319, -0.10966748, -0.06168483, ..., -0.07029815,\n",
       "         1.09415159, -0.1497178 ],\n",
       "       [-0.09204319, -0.10966748, -0.06168483, ..., -0.07029815,\n",
       "        -0.46597332, -0.1497178 ],\n",
       "       [-0.09204319, -0.10966748, -0.06168483, ..., -0.07029815,\n",
       "         0.69942119, -0.1497178 ],\n",
       "       ...,\n",
       "       [-0.09204319, -0.10966748, -0.06168483, ..., -0.07029815,\n",
       "         1.09415159, -0.1497178 ],\n",
       "       [-0.09204319, -0.10966748, -0.06168483, ..., -0.07029815,\n",
       "         1.24452508, -0.1497178 ],\n",
       "       [-0.09204319, -0.10966748, -0.06168483, ..., -0.07029815,\n",
       "         1.24452508, -0.1497178 ]])"
      ]
     },
     "execution_count": 18,
     "metadata": {},
     "output_type": "execute_result"
    }
   ],
   "source": [
    "X_train=StandardScaler().fit_transform(X_train)\n",
    "X_train"
   ]
  },
  {
   "cell_type": "markdown",
   "metadata": {},
   "source": [
    "### Fitting LR model"
   ]
  },
  {
   "cell_type": "code",
   "execution_count": 20,
   "metadata": {},
   "outputs": [
    {
     "name": "stdout",
     "output_type": "stream",
     "text": [
      "train Accuracy 0.8828233260349413\n"
     ]
    }
   ],
   "source": [
    "regressor = LinearRegression()\n",
    "model = regressor.fit(X_train,y_train)\n",
    "print(\"train Accuracy\",regressor.score(X_train,y_train))"
   ]
  },
  {
   "cell_type": "code",
   "execution_count": 21,
   "metadata": {},
   "outputs": [],
   "source": [
    "y_pred1 = regressor.predict(X_train)"
   ]
  },
  {
   "cell_type": "markdown",
   "metadata": {},
   "source": [
    "### Taking antilog of prediction"
   ]
  },
  {
   "cell_type": "code",
   "execution_count": 22,
   "metadata": {},
   "outputs": [],
   "source": [
    "predictions1 = np.exp(y_pred1)"
   ]
  },
  {
   "cell_type": "code",
   "execution_count": 23,
   "metadata": {},
   "outputs": [
    {
     "name": "stdout",
     "output_type": "stream",
     "text": [
      "Mean Absolute Error: 76613.65901783868\n",
      "Mean Squared Error: 24134506970.92337\n",
      "Root Mean Squared Error: 155352.84667788798\n"
     ]
    }
   ],
   "source": [
    "print('Mean Absolute Error:', metrics.mean_absolute_error(KC_train[['price']].values, predictions1))\n",
    "print('Mean Squared Error:', metrics.mean_squared_error(KC_train[['price']].values, predictions1))\n",
    "print('Root Mean Squared Error:', np.sqrt(metrics.mean_squared_error(KC_train[['price']].values, predictions1)))"
   ]
  },
  {
   "cell_type": "markdown",
   "metadata": {},
   "source": [
    "### Results"
   ]
  },
  {
   "cell_type": "code",
   "execution_count": null,
   "metadata": {},
   "outputs": [],
   "source": [
    "print(\"Train Results\")\n",
    "\n",
    "print(\"R squared\",regressor.score(X_train,y_train))\n",
    "\n",
    "y_pred1 = regressor.predict(X_train)\n",
    "predictions2 = np.exp(y_pred1)\n",
    "\n",
    "print('Mean Absolute Error:', metrics.mean_absolute_error(KC_train[['price']].values, predictions1))\n",
    "print('Mean Squared Error:', metrics.mean_squared_error(KC_train[['price']].values, predictions1))\n",
    "print('Root Mean Squared Error:', np.sqrt(metrics.mean_squared_error(KC_train[['price']].values, predictions1)))"
   ]
  },
  {
   "cell_type": "markdown",
   "metadata": {},
   "source": [
    "### Coefficients"
   ]
  },
  {
   "cell_type": "markdown",
   "metadata": {},
   "source": [
    "X_test_columns =KC_test.drop([\"price\"],axis=1)\n",
    "x = regressor.coef_\n",
    "coeff_dict = {}\n",
    "count = 0\n",
    "for i in X_test_columns.columns:\n",
    "    coeff_dict[i] = x[count]\n",
    "    count = count + 1\n",
    "df = pd.DataFrame(coeff_dict.items(),columns=['Attribute', 'Coefficient'])\n",
    "df"
   ]
  },
  {
   "cell_type": "code",
   "execution_count": 36,
   "metadata": {},
   "outputs": [],
   "source": [
    "removing_variable_list = ['price','zipcode','sqft_lot15','bedrooms','lat','long',\n",
    "                          'sqft_basement','sqft_above','sqft_lot','bathrooms','floors','yr_built']"
   ]
  },
  {
   "cell_type": "markdown",
   "metadata": {},
   "source": [
    "### Train fitting in single cell"
   ]
  },
  {
   "cell_type": "code",
   "execution_count": 37,
   "metadata": {
    "scrolled": true
   },
   "outputs": [
    {
     "name": "stdout",
     "output_type": "stream",
     "text": [
      "Train Results\n",
      "R squared 0.8794351065279636\n",
      "Mean Absolute Error: 76613.65901783868\n",
      "Mean Squared Error: 24134506970.92337\n",
      "Root Mean Squared Error: 155352.84667788798\n"
     ]
    }
   ],
   "source": [
    "KC_train = pd.read_csv(\"D:\\\\Praxis\\\\ML\\\\data\\\\kc-house-data\\\\wk3_kc_house_train_data.csv\")\n",
    "\n",
    "KC_train.loc[KC_train.bedrooms == 33, 'bedrooms'] = 3\n",
    "\n",
    "from sklearn.preprocessing import LabelBinarizer\n",
    "lb = LabelBinarizer()\n",
    "zip_dummies = lb.fit_transform(KC_train['zipcode'])\n",
    "# you need to convert this back to a dataframe\n",
    "zip_dum_df = pd.DataFrame(zip_dummies,columns=lb.classes_)\n",
    "\n",
    "for i in zip_dum_df.columns:\n",
    "    KC_train[str(i)] = zip_dum_df[i]\n",
    "\n",
    "#for i in KC_train.id:\n",
    "#    KC_train.loc[(KC_train['id']==i) & (KC_train['yr_renovated']==0),'yr_renovated'] = KC_train.loc[(KC_train['id']==i),'yr_built'].values[0]\n",
    "    \n",
    "#KC_train.loc[KC_train['yr_renovated'] == 0 , 'renovation_index'] = 1\n",
    "#KC_train.loc[KC_train['yr_renovated'] > 0 , 'renovation_index'] = 2\n",
    "#KC_train.loc[KC_train['yr_renovated'] > 1970 , 'renovation_index'] = 3\n",
    "#KC_train.loc[KC_train['yr_renovated'] > 1995 , 'renovation_index'] = 4 \n",
    "\n",
    "#KC_train.loc[KC_train['yr_renovated'] == 0 , 'yr_renovated'] = 1\n",
    "\n",
    "\n",
    "KC_train['log_sqft_living'] = np.log(KC_train['sqft_living'])\n",
    "\n",
    "KC_train=KC_train.drop([\"id\",\"date\",\"sqft_living\",\"yr_built\"],axis=1)\n",
    "\n",
    "Y_train = KC_train[\"price\"].values\n",
    "y_train = np.log(Y_train)\n",
    "\n",
    "X_train = KC_train[list(set(KC_train.columns) - set(removing_variable_list))].values\n",
    "\n",
    "X_train=StandardScaler().fit_transform(X_train)\n",
    "\n",
    "regressor = LinearRegression()\n",
    "model = regressor.fit(X_train,y_train)\n",
    "\n",
    "print(\"Train Results\")\n",
    "\n",
    "print(\"R squared\",regressor.score(X_train,y_train))\n",
    "\n",
    "y_pred1 = regressor.predict(X_train)\n",
    "predictions2 = np.exp(y_pred1)\n",
    "\n",
    "print('Mean Absolute Error:', metrics.mean_absolute_error(KC_train[['price']].values, predictions1))\n",
    "print('Mean Squared Error:', metrics.mean_squared_error(KC_train[['price']].values, predictions1))\n",
    "print('Root Mean Squared Error:', np.sqrt(metrics.mean_squared_error(KC_train[['price']].values, predictions1)))"
   ]
  },
  {
   "cell_type": "markdown",
   "metadata": {},
   "source": [
    "### Using validation data"
   ]
  },
  {
   "cell_type": "code",
   "execution_count": 38,
   "metadata": {},
   "outputs": [
    {
     "name": "stdout",
     "output_type": "stream",
     "text": [
      "Validation Results\n",
      "R squared 0.8725485116410769\n",
      "Mean Absolute Error: 74145.83809005565\n",
      "Mean Squared Error: 16034915625.413435\n",
      "Root Mean Squared Error: 126629.04732095805\n"
     ]
    }
   ],
   "source": [
    "KC_valid = pd.read_csv(\"D:\\\\Praxis\\\\ML\\\\data\\\\kc-house-data\\\\wk3_kc_house_valid_data.csv\")\n",
    "\n",
    "from sklearn.preprocessing import LabelBinarizer\n",
    "lb = LabelBinarizer()\n",
    "zip_dummies = lb.fit_transform(KC_valid['zipcode'])\n",
    "# you need to convert this back to a dataframe\n",
    "zip_dum_df = pd.DataFrame(zip_dummies,columns=lb.classes_)\n",
    "\n",
    "for i in zip_dum_df.columns:\n",
    "    KC_valid[str(i)] = zip_dum_df[i]\n",
    "\n",
    "#KC_valid.loc[KC_valid['yr_renovated'] == 0 , 'renovation_index'] = 1\n",
    "#KC_valid.loc[KC_valid['yr_renovated'] > 0 , 'renovation_index'] = 2\n",
    "#KC_valid.loc[KC_valid['yr_renovated'] > 1970 , 'renovation_index'] = 3\n",
    "#KC_valid.loc[KC_valid['yr_renovated'] > 1995 , 'renovation_index'] = 4\n",
    "\n",
    "#for i in KC_valid.id:\n",
    "#    KC_valid.loc[(KC_valid['id']==i) & (KC_valid['yr_renovated']==0),'yr_renovated'] = KC_valid.loc[(KC_valid['id']==i),'yr_built'].values[0]\n",
    "        \n",
    "\n",
    "KC_valid['log_sqft_living'] = np.log(KC_valid['sqft_living'])\n",
    "\n",
    "KC_valid=KC_valid.drop([\"id\",\"date\",\"sqft_living\"],axis=1)\n",
    "\n",
    "Y_valid = KC_valid[\"price\"].values\n",
    "y_valid = np.log(Y_valid)\n",
    "\n",
    "X_valid = KC_valid[list(set(KC_valid.columns) - set(removing_variable_list))].values\n",
    "\n",
    "X_valid=StandardScaler().fit_transform(X_valid)\n",
    "\n",
    "regressor = LinearRegression()\n",
    "model = regressor.fit(X_valid,y_valid)\n",
    "\n",
    "print(\"Validation Results\")\n",
    "\n",
    "print(\"R squared\",regressor.score(X_valid,y_valid))\n",
    "\n",
    "y_pred2 = regressor.predict(X_valid)\n",
    "predictions2 = np.exp(y_pred2)\n",
    "\n",
    "\n",
    "print('Mean Absolute Error:', metrics.mean_absolute_error(KC_valid[['price']].values, predictions2))\n",
    "print('Mean Squared Error:', metrics.mean_squared_error(KC_valid[['price']].values, predictions2))\n",
    "print('Root Mean Squared Error:', np.sqrt(metrics.mean_squared_error(KC_valid[['price']].values, predictions2)))"
   ]
  },
  {
   "cell_type": "markdown",
   "metadata": {},
   "source": [
    "### Taking a sample of validation data and visualising results"
   ]
  },
  {
   "cell_type": "code",
   "execution_count": null,
   "metadata": {},
   "outputs": [],
   "source": [
    "df = pd.DataFrame({'Actual': KC_valid[['price']].values.flatten(), 'Predicted': predictions2.flatten()})\n",
    "df1 = df.sample(50)\n",
    "df1.plot(kind='bar',figsize=(16,10))\n",
    "plt.grid(which='major', linestyle='-', linewidth='0.5', color='green')\n",
    "plt.grid(which='minor', linestyle=':', linewidth='0.5', color='black')\n",
    "plt.show()"
   ]
  },
  {
   "cell_type": "markdown",
   "metadata": {},
   "source": [
    "### Using test data"
   ]
  },
  {
   "cell_type": "code",
   "execution_count": 34,
   "metadata": {},
   "outputs": [
    {
     "name": "stdout",
     "output_type": "stream",
     "text": [
      "valid Accuracy 0.8749778714328463\n",
      "Mean Absolute Error: 75216.8163013706\n",
      "Mean Squared Error: 16214490381.35898\n",
      "Root Mean Squared Error: 127336.13148419022\n"
     ]
    }
   ],
   "source": [
    "KC_test = pd.read_csv(\"D:\\\\Praxis\\\\ML\\\\data\\\\kc-house-data\\\\wk3_kc_house_test_data.csv\")\n",
    "\n",
    "from sklearn.preprocessing import LabelBinarizer\n",
    "lb = LabelBinarizer()\n",
    "zip_dummies = lb.fit_transform(KC_test['zipcode'])\n",
    "# you need to convert this back to a dataframe\n",
    "zip_dum_df = pd.DataFrame(zip_dummies,columns=lb.classes_)\n",
    "\n",
    "for i in zip_dum_df.columns:\n",
    "    KC_test[str(i)] = zip_dum_df[i]\n",
    "    \n",
    "#KC_test.loc[KC_test['yr_renovated'] == 0 , 'renovation_index'] = 1\n",
    "#KC_test.loc[KC_test['yr_renovated'] > 0 , 'renovation_index'] = 2\n",
    "#KC_test.loc[KC_test['yr_renovated'] > 1970 , 'renovation_index'] = 3\n",
    "#KC_test.loc[KC_test['yr_renovated'] > 1995 , 'renovation_index'] = 4    \n",
    "\n",
    "#for i in KC_test.id:\n",
    " #   KC_test.loc[(KC_test['id']==i) & (KC_test['yr_renovated']==0),'yr_renovated'] = KC_test.loc[(KC_test['id']==i),'yr_built'].values[0]\n",
    "        \n",
    "\n",
    "KC_test['log_sqft_living'] = np.log(KC_test['sqft_living'])    \n",
    "    \n",
    "KC_test=KC_test.drop([\"id\",\"date\",\"sqft_living\"],axis=1)\n",
    "\n",
    "Y_test = KC_test[\"price\"].values\n",
    "y_test = np.log(Y_test)\n",
    "\n",
    "X_test = KC_test[list(set(KC_test.columns) - set(removing_variable_list))].values\n",
    "\n",
    "X_test=StandardScaler().fit_transform(X_test)\n",
    "\n",
    "regressor = LinearRegression()\n",
    "model = regressor.fit(X_test,y_test)\n",
    "print(\"valid Accuracy\",regressor.score(X_test,y_test))\n",
    "\n",
    "y_pred3 = regressor.predict(X_test)\n",
    "predictions3 = np.exp(y_pred3)\n",
    "\n",
    "print('Mean Absolute Error:', metrics.mean_absolute_error(KC_test[['price']].values, predictions3))\n",
    "print('Mean Squared Error:', metrics.mean_squared_error(KC_test[['price']].values, predictions3))\n",
    "print('Root Mean Squared Error:', np.sqrt(metrics.mean_squared_error(KC_test[['price']].values, predictions3)))"
   ]
  },
  {
   "cell_type": "markdown",
   "metadata": {},
   "source": [
    "### Taking a sample and visualising results"
   ]
  },
  {
   "cell_type": "code",
   "execution_count": 74,
   "metadata": {},
   "outputs": [
    {
     "data": {
      "image/png": "[encoded data removed]",
      "text/plain": [
       "<Figure size 1152x720 with 1 Axes>"
      ]
     },
     "metadata": {
      "needs_background": "light"
     },
     "output_type": "display_data"
    }
   ],
   "source": [
    "df = pd.DataFrame({'Actual': KC_test[['price']].values.flatten(), 'Predicted': predictions3.flatten()})\n",
    "df1 = df.sample(50)\n",
    "df1.plot(kind='bar',figsize=(16,10),grid=False)\n",
    "plt.grid(which='major', linestyle='-', linewidth='0.5', color='green')\n",
    "plt.grid(which='minor', linestyle=':', linewidth='0.5', color='black')\n",
    "plt.grid(b=None)\n",
    "plt.show()"
   ]
  },
  {
   "cell_type": "code",
   "execution_count": null,
   "metadata": {},
   "outputs": [],
   "source": []
  },
  {
   "cell_type": "code",
   "execution_count": null,
   "metadata": {},
   "outputs": [],
   "source": []
  },
  {
   "cell_type": "code",
   "execution_count": null,
   "metadata": {},
   "outputs": [],
   "source": []
  },
  {
   "cell_type": "code",
   "execution_count": null,
   "metadata": {},
   "outputs": [],
   "source": []
  },
  {
   "cell_type": "code",
   "execution_count": null,
   "metadata": {},
   "outputs": [],
   "source": []
  },
  {
   "cell_type": "code",
   "execution_count": null,
   "metadata": {},
   "outputs": [],
   "source": []
  },
  {
   "cell_type": "code",
   "execution_count": null,
   "metadata": {},
   "outputs": [],
   "source": []
  },
  {
   "cell_type": "code",
   "execution_count": null,
   "metadata": {},
   "outputs": [],
   "source": []
  },
  {
   "cell_type": "code",
   "execution_count": null,
   "metadata": {},
   "outputs": [],
   "source": []
  },
  {
   "cell_type": "code",
   "execution_count": null,
   "metadata": {},
   "outputs": [],
   "source": []
  },
  {
   "cell_type": "code",
   "execution_count": null,
   "metadata": {},
   "outputs": [],
   "source": []
  }
 ],
 "metadata": {
  "kernelspec": {
   "display_name": "Python 3",
   "language": "python",
   "name": "python3"
  },
  "language_info": {
   "codemirror_mode": {
    "name": "ipython",
    "version": 3
   },
   "file_extension": ".py",
   "mimetype": "text/x-python",
   "name": "python",
   "nbconvert_exporter": "python",
   "pygments_lexer": "ipython3",
   "version": "3.7.6"
  }
 },
 "nbformat": 4,
 "nbformat_minor": 2
}
